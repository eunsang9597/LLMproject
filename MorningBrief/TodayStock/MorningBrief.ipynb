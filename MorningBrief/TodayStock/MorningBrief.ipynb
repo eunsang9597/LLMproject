{
 "cells": [
  {
   "cell_type": "markdown",
   "metadata": {},
   "source": [
    "# 모닝 브리핑\n",
    
    "긴 밤 동안 쌓인 미국 주식 뉴스와 최신 정보를 요약하여 유저에게 필요한 정보를 빠르게 전달\n",
    " \n",
    "### Table of Contents\n",
    "* <b> Session 1. Collecting Data </b>: Collecting Data from Amercia News Paper and reddit stock page / using other LLM <br> \n",
    "    - 1-1 web crolling\n",
    "    - 1-2 ChatGPT\n",
    "\n",
    "\n",
    "- <b> Session 2. Prompt Engineering and build LLM with lang chain </b> : <br>\n",
    "   \n",
    "\n",
    "- <b> Session 3. Making Demo by Gradio <br>\n",
    "\n"
   ]
  },
  {
   "cell_type": "markdown",
   "metadata": {
    "vscode": {
     "languageId": "plaintext"
    }
   },
   "source": [
    "### 1-1 web crolling\n",
    "- collect news data from Amercia Internet Business news site\n",
    "- collect stock data from Redit stock channels"
   ]
  },
  {
   "cell_type": "code",
   "execution_count": 1,
   "metadata": {},
   "outputs": [
    {
     "name": "stdout",
     "output_type": "stream",
     "text": [
      "Requirement already satisfied: beautifulsoup4 in /opt/anaconda3/lib/python3.12/site-packages (4.12.3)\n",
      "Requirement already satisfied: soupsieve>1.2 in /opt/anaconda3/lib/python3.12/site-packages (from beautifulsoup4) (2.5)\n",
      "Requirement already satisfied: requests in /opt/anaconda3/lib/python3.12/site-packages (2.32.3)\n",
      "Requirement already satisfied: charset-normalizer<4,>=2 in /opt/anaconda3/lib/python3.12/site-packages (from requests) (3.3.2)\n",
      "Requirement already satisfied: idna<4,>=2.5 in /opt/anaconda3/lib/python3.12/site-packages (from requests) (3.7)\n",
      "Requirement already satisfied: urllib3<3,>=1.21.1 in /opt/anaconda3/lib/python3.12/site-packages (from requests) (2.0.7)\n",
      "Requirement already satisfied: certifi>=2017.4.17 in /opt/anaconda3/lib/python3.12/site-packages (from requests) (2024.8.30)\n",
      "Requirement already satisfied: selenium in /opt/anaconda3/lib/python3.12/site-packages (4.26.1)\n",
      "Requirement already satisfied: urllib3<3,>=1.26 in /opt/anaconda3/lib/python3.12/site-packages (from urllib3[socks]<3,>=1.26->selenium) (2.0.7)\n",
      "Requirement already satisfied: trio~=0.17 in /opt/anaconda3/lib/python3.12/site-packages (from selenium) (0.27.0)\n",
      "Requirement already satisfied: trio-websocket~=0.9 in /opt/anaconda3/lib/python3.12/site-packages (from selenium) (0.11.1)\n",
      "Requirement already satisfied: certifi>=2021.10.8 in /opt/anaconda3/lib/python3.12/site-packages (from selenium) (2024.8.30)\n",
      "Requirement already satisfied: typing_extensions~=4.9 in /opt/anaconda3/lib/python3.12/site-packages (from selenium) (4.11.0)\n",
      "Requirement already satisfied: websocket-client~=1.8 in /opt/anaconda3/lib/python3.12/site-packages (from selenium) (1.8.0)\n",
      "Requirement already satisfied: attrs>=23.2.0 in /opt/anaconda3/lib/python3.12/site-packages (from trio~=0.17->selenium) (24.2.0)\n",
      "Requirement already satisfied: sortedcontainers in /opt/anaconda3/lib/python3.12/site-packages (from trio~=0.17->selenium) (2.4.0)\n",
      "Requirement already satisfied: idna in /opt/anaconda3/lib/python3.12/site-packages (from trio~=0.17->selenium) (3.7)\n",
      "Requirement already satisfied: outcome in /opt/anaconda3/lib/python3.12/site-packages (from trio~=0.17->selenium) (1.3.0.post0)\n",
      "Requirement already satisfied: sniffio>=1.3.0 in /opt/anaconda3/lib/python3.12/site-packages (from trio~=0.17->selenium) (1.3.0)\n",
      "Requirement already satisfied: wsproto>=0.14 in /opt/anaconda3/lib/python3.12/site-packages (from trio-websocket~=0.9->selenium) (1.2.0)\n",
      "Requirement already satisfied: pysocks!=1.5.7,<2.0,>=1.5.6 in /opt/anaconda3/lib/python3.12/site-packages (from urllib3[socks]<3,>=1.26->selenium) (1.7.1)\n",
      "Requirement already satisfied: h11<1,>=0.9.0 in /opt/anaconda3/lib/python3.12/site-packages (from wsproto>=0.14->trio-websocket~=0.9->selenium) (0.14.0)\n"
     ]
    }
   ],
   "source": [
    "# 필요한 라이브러리 설치\n",
    "!pip install beautifulsoup4\n",
    "!pip install requests\n",
    "!pip install selenium\n",
    "\n",
    "import requests\n",
    "from bs4 import BeautifulSoup"
   ]
  },
  {
   "cell_type": "code",
   "execution_count": 28,
   "metadata": {},
   "outputs": [],
   "source": [
    "from selenium import webdriver\n",
    "from selenium.webdriver.common.by import By\n",
    "from selenium.webdriver.common.action_chains import ActionChains\n",
    "from selenium.webdriver.support.ui import WebDriverWait \n",
    "from selenium.webdriver.support import expected_conditions as EC \n",
    "from selenium.common.exceptions import NoSuchElementException\n",
    "from selenium.webdriver.common.keys import Keys\n",
    "\n",
    "import time\n",
    "\n",
    "def get_articles(url):\n",
    "    content=''\n",
    "\n",
    "    # Launch the browser driver\n",
    "    driver = webdriver.Chrome()\n",
    "\n",
    "    # Open a webpage\n",
    "    driver.get(url)\n",
    "    driver.implicitly_wait(2)\n",
    "\n",
    "    # scroll 5 times\n",
    "    for c in range(3): \n",
    "        elements = driver.find_elements(By.CSS_SELECTOR, 'div[slot=\"title\"].contents > a') \n",
    "        driver.find_element(By.TAG_NAME, 'body').send_keys(Keys.PAGE_DOWN)\n",
    "        time.sleep(1)\n",
    "\n",
    "    elements = driver.find_elements(By.CSS_SELECTOR, 'a.resultlink')\n",
    "\n",
    "    # href 속성을 urls 리스트에 저장\n",
    "    urls = [element.get_attribute('href') for element in elements]\n",
    "\n",
    "    # 결과 출력\n",
    "    for url in urls:\n",
    "        try:\n",
    "            driver.get(url)\n",
    "            try: \n",
    "                element = driver.find_element(By.CSS_SELECTOR, 'h1.ArticleHeader-headline')\n",
    "            \n",
    "            except NoSuchElementException:\n",
    "                continue\n",
    "            content+=element.text\n",
    "            time.sleep(2)\n",
    "            elements = driver.find_elements(By.CSS_SELECTOR, 'div.group') \n",
    "        except NoSuchElementException:\n",
    "            continue\n",
    "        # 선택된 요소들의 텍스트를 출력 \n",
    "        for element in elements: \n",
    "             content+=element.text\n",
    "\n",
    "    # Close the browser\n",
    "    driver.quit()\n",
    "    return content"
   ]
  },
  {
   "cell_type": "code",
   "execution_count": null,
   "metadata": {},
   "outputs": [],
   "source": [
    "msft_cnbc = get_articles('https://www.cnbc.com/search/?query=msft&qsearchterm=msft')\n",
    "nvda_cnbc = get_articles('https://www.cnbc.com/search/?query=nvda&qsearchterm=nvda')\n",
    "tsla_cnbc = get_articles('https://www.cnbc.com/search/?query=tsla&qsearchterm=tsla')\n",
    "\n",
    "target_file = open(\"/data/summary.txt\",\"w\")\n",
    "target_file.write(msft_cnbc + '\\n')\n",
    "target_file.write(nvda_cnbc + '\\n')\n",
    "target_file.write(tsla_cnbc + '\\n')\n",
    "\n",
    "target_file.close()"
   ]
  },
  {
   "cell_type": "markdown",
   "metadata": {},
   "source": [
    "### 1-2 Using Chat GPT\n",
    "- collect current business data from chat gpt\n",
    "* instead of solar <font color = red> retrieving information from internet"
   ]
  },
  {
   "cell_type": "code",
   "execution_count": 2,
   "metadata": {},
   "outputs": [],
   "source": [
    "#f = open(\"chg_promt.txt\",\"r\")\n",
    "c = open(\"LLMsearch.txt\",\"r\")\n",
    "input_txt = c.read()\n",
    "#input_txt = input_txt + \"\\n\" + c.read()\n",
    "#f.close()\n",
    "c.close()"
   ]
  },
  {
   "cell_type": "markdown",
   "metadata": {},
   "source": [
    "### 2 prompt engineering and define model\n",
    "- collect news data from Amercia Internet Business news site\n",
    "- collect stock data from Redit stock channels"
   ]
  },
  {
   "cell_type": "code",
   "execution_count": 11,
   "metadata": {},
   "outputs": [],
   "source": [
    "! pip3 install -qU  markdownify  langchain-upstage rank_bm25 python-dotenv"
   ]
  },
  {
   "cell_type": "code",
   "execution_count": 3,
   "metadata": {},
   "outputs": [],
   "source": [
    "# @title set API key\n",
    "import os\n",
    "import getpass\n",
    "from pprint import pprint\n",
    "import warnings\n",
    "\n",
    "warnings.filterwarnings(\"ignore\")\n",
    "\n",
    "from IPython import get_ipython\n",
    "\n",
    "if \"google.colab\" in str(get_ipython()):\n",
    "    # Running in Google Colab. Please set the UPSTAGE_API_KEY in the Colab Secrets\n",
    "    from google.colab import userdata\n",
    "    os.environ[\"UPSTAGE_API_KEY\"] = userdata.get(\"UPSTAGE_API_KEY\")\n",
    "else:\n",
    "    # Running locally. Please set the UPSTAGE_API_KEY in the .env file\n",
    "    from dotenv import load_dotenv\n",
    "\n",
    "    load_dotenv()\n",
    "\n",
    "if \"UPSTAGE_API_KEY\" not in os.environ:\n",
    "    os.environ[\"UPSTAGE_API_KEY\"] = getpass.getpass(\"Enter your Upstage API key: \")\n"
   ]
  },
  {
   "cell_type": "code",
   "execution_count": 4,
   "metadata": {},
   "outputs": [],
   "source": [
    "from langchain_core.prompts import PromptTemplate\n",
    "from langchain_core.output_parsers import StrOutputParser\n",
    "from langchain_upstage import ChatUpstage\n",
    "\n",
    "llm = ChatUpstage()\n",
    "\n",
    "#prompt always summarize whole business text to three lines\n",
    "\n",
    "prompt_template = PromptTemplate.from_template(\n",
    "    \"\"\"\n",
    "    Please write three most important contents on the following text  \n",
    "    ---\n",
    "    TEXT: {text}\n",
    "    \"\"\"\n",
    ")\n",
    "chain = prompt_template | llm | StrOutputParser()"
   ]
  },
  {
   "cell_type": "code",
   "execution_count": 5,
   "metadata": {},
   "outputs": [],
   "source": [
    "def brief(dialog):\n",
    "    return chain.invoke({\"text\": dialog})"
   ]
  },
  {
   "cell_type": "markdown",
   "metadata": {},
   "source": [
    "### 3 Making Demo by Gradio\n",
    "- Initiate with yesterday news information\n",
    "- If put some news article app will return 3 line summary"
   ]
  },
  {
   "cell_type": "code",
   "execution_count": 14,
   "metadata": {},
   "outputs": [],
   "source": [
    "!pip install -qU gradio python-dotenv langchain-upstage python-dotenv"
   ]
  },
  {
   "cell_type": "code",
   "execution_count": 6,
   "metadata": {},
   "outputs": [],
   "source": [
    "import gradio as gr\n",
    "\n",
    "from langchain_upstage import (\n",
    "    ChatUpstage,\n",
    "    UpstageEmbeddings,\n",
    "    UpstageLayoutAnalysisLoader,\n",
    ")\n",
    "from langchain_core.prompts import ChatPromptTemplate, MessagesPlaceholder\n",
    "from langchain_core.output_parsers import StrOutputParser\n",
    "from langchain.schema import AIMessage, HumanMessage\n",
    "from langchain_text_splitters import (\n",
    "    Language,\n",
    "    RecursiveCharacterTextSplitter,\n",
    ")\n",
    "from langchain_chroma import Chroma\n",
    "\n",
    "llm = ChatUpstage(streaming=True)"
   ]
  },
  {
   "cell_type": "code",
   "execution_count": 7,
   "metadata": {},
   "outputs": [],
   "source": [
    "def start():\n",
    "    return chain.invoke({\"text\": input_txt})\n",
    "\n",
    "with gr.Blocks() as demo:\n",
    "    output = gr.Textbox(label = \"Today Stock\")\n",
    "    demo.load(fn=start,outputs=output)\n",
    "    chatbot = gr.ChatInterface(\n",
    "        brief,\n",
    "        title=\"Morning Brief\",\n",
    "        description=\"Check latest stock market news\",\n",
    "        \n",
    "        \n",
    "    )\n",
    "    chatbot.chatbot.height = 300"
   ]
  },
  {
   "cell_type": "code",
   "execution_count": 8,
   "metadata": {},
   "outputs": [
    {
     "name": "stdout",
     "output_type": "stream",
     "text": [
      "* Running on local URL:  http://127.0.0.1:7860\n",
      "\n",
      "To create a public link, set `share=True` in `launch()`.\n"
     ]
    },
    {
     "data": {
      "text/html": [
       "<div><iframe src=\"http://127.0.0.1:7860/\" width=\"100%\" height=\"500\" allow=\"autoplay; camera; microphone; clipboard-read; clipboard-write;\" frameborder=\"0\" allowfullscreen></iframe></div>"
      ],
      "text/plain": [
       "<IPython.core.display.HTML object>"
      ]
     },
     "metadata": {},
     "output_type": "display_data"
    }
   ],
   "source": [
    " \n",
    "\n",
    "if __name__ == \"__main__\":\n",
    "    demo.launch()"
   ]
  }
 ],
 "metadata": {
  "kernelspec": {
   "display_name": "base",
   "language": "python",
   "name": "python3"
  },
  "language_info": {
   "codemirror_mode": {
    "name": "ipython",
    "version": 3
   },
   "file_extension": ".py",
   "mimetype": "text/x-python",
   "name": "python",
   "nbconvert_exporter": "python",
   "pygments_lexer": "ipython3",
   "version": "3.12.7"
  }
 },
 "nbformat": 4,
 "nbformat_minor": 2
}
